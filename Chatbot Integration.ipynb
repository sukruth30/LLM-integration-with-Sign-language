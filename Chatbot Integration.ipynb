{
 "cells": [
  {
   "cell_type": "code",
   "execution_count": null,
   "id": "4fa17e06",
   "metadata": {},
   "outputs": [],
   "source": [
    "import cv2\n",
    "import mediapipe as mp"
   ]
  },
  {
   "cell_type": "code",
   "execution_count": null,
   "id": "b982677a",
   "metadata": {},
   "outputs": [],
   "source": [
    "import pickle\n",
    "model_dict = pickle.load(open('./model.p','rb'))\n",
    "model = model_dict['model']"
   ]
  },
  {
   "cell_type": "code",
   "execution_count": null,
   "id": "320b50f7",
   "metadata": {},
   "outputs": [],
   "source": [
    "import numpy as np"
   ]
  },
  {
   "cell_type": "code",
   "execution_count": null,
   "id": "b4db7ebd",
   "metadata": {},
   "outputs": [],
   "source": [
    "cap = cv2.VideoCapture(0)"
   ]
  },
  {
   "cell_type": "code",
   "execution_count": null,
   "id": "59ec16d0",
   "metadata": {},
   "outputs": [],
   "source": [
    "mp_hands = mp.solutions.hands\n",
    "mp_drawing = mp.solutions.drawing_utils\n",
    "mp_drawing_styles = mp.solutions.drawing_styles"
   ]
  },
  {
   "cell_type": "code",
   "execution_count": null,
   "id": "a9650c61",
   "metadata": {},
   "outputs": [],
   "source": [
    "hands = mp_hands.Hands(static_image_mode=True, min_detection_confidence=0.3)"
   ]
  },
  {
   "cell_type": "code",
   "execution_count": null,
   "id": "0e4a8ec7",
   "metadata": {},
   "outputs": [],
   "source": [
    "labels_dict = {\n",
    "    0: 'A',  1: 'B',  2: 'C',  3: 'D',  4: 'E',  5: 'F',  6: 'H',  7: 'G',  8: 'I',  9: 'J', \n",
    "    10: 'K', 11: 'L', 12: 'M', 13: 'N', 14: 'O', 15: 'P', 16: 'Q', 17: 'R', 18: 'S', 19: 'T', \n",
    "    20: 'U', 21: 'V', 22: 'W', 23: 'X', 24: 'Y', 25: 'Z', 26: '1', 27: '2', 28: '3', 29: '4', \n",
    "    30: '5', 31: '6', 32: '7', 33: '8', 34: '9'\n",
    "}"
   ]
  },
  {
   "cell_type": "code",
   "execution_count": null,
   "id": "28ec2945",
   "metadata": {
    "scrolled": false
   },
   "outputs": [],
   "source": [
    "predictions_list = []\n",
    "\n",
    "while True:\n",
    "    data_aux = []\n",
    "    x_ = []\n",
    "    y_ = []\n",
    "    \n",
    "    ret, frame = cap.read()\n",
    "    \n",
    "    if not ret:\n",
    "        break\n",
    "    \n",
    "    H, W, _ = frame.shape\n",
    "    \n",
    "    frame_rgb = cv2.cvtColor(frame, cv2.COLOR_BGR2RGB)\n",
    "        \n",
    "    results = hands.process(frame_rgb)\n",
    "    \n",
    "    if results.multi_hand_landmarks:\n",
    "        for hand_landmarks in results.multi_hand_landmarks:\n",
    "            mp_drawing.draw_landmarks(\n",
    "                frame,\n",
    "                hand_landmarks,\n",
    "                mp_hands.HAND_CONNECTIONS,\n",
    "                mp_drawing_styles.get_default_hand_landmarks_style(),\n",
    "                mp_drawing_styles.get_default_hand_connections_style()\n",
    "            )\n",
    "    \n",
    "        for hand_landmarks in results.multi_hand_landmarks:\n",
    "            for i in range(len(hand_landmarks.landmark)):\n",
    "                x = hand_landmarks.landmark[i].x\n",
    "                y = hand_landmarks.landmark[i].y\n",
    "                data_aux.append(x)\n",
    "                data_aux.append(y)\n",
    "                x_.append(x)\n",
    "                y_.append(y)\n",
    "                \n",
    "        x1 = int(min(x_) * W) - 10\n",
    "        y1 = int(min(y_) * H) - 10\n",
    "         \n",
    "        x2 = int(max(x_) * W) - 10\n",
    "        y2 = int(max(y_) * H) - 10\n",
    "        \n",
    "        prediction = model.predict([np.asarray(data_aux)])\n",
    "        \n",
    "        predicted_character = labels_dict[int(prediction[0])]\n",
    "        \n",
    "        cv2.rectangle(frame, (x1, y1), (x2, y2), (0, 0, 0), 4)\n",
    "        cv2.putText(frame, predicted_character, (x1, y1 - 10), cv2.FONT_HERSHEY_SIMPLEX, 1.3, (0, 0, 0), 3, cv2.LINE_AA)\n",
    "    \n",
    "    cv2.imshow('frame', frame)\n",
    "    \n",
    "    key = cv2.waitKey(1) & 0xFF\n",
    "    if key == ord(' '):  # Spacebar to save prediction\n",
    "        predictions_list.append(predicted_character)\n",
    "        print(f\"Stored prediction: {predicted_character}\")\n",
    "    elif key == ord('q'):  # 'q' to quit\n",
    "        break\n",
    "\n",
    "cap.release()\n",
    "cv2.destroyAllWindows()\n",
    "\n",
    "print(\"Predictions List:\", predictions_list)"
   ]
  },
  {
   "cell_type": "code",
   "execution_count": null,
   "id": "c2435763",
   "metadata": {
    "scrolled": true
   },
   "outputs": [],
   "source": [
    "import requests\n",
    "\n",
    "def get_meaningful_sentence(input_text):\n",
    "    api_url = \"https://api.groq.com/openai/v1/chat/completions\"  # Replace with the actual Groq LLM API URL\n",
    "    api_key = \"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\"  # Replace with your actual API key\n",
    "\n",
    "    # Prepare the input text\n",
    "    #input_text = \"\".join(predictions_list)\n",
    "    prompt = (\n",
    "    \"I have a series of strings of uppercase letters without spaces that represent sentences. Your task is to:\\n\"\n",
    "    \"1. Break each string into meaningful words.\\n\"\n",
    "    \"2. Capitalize the first word of each sentence.\\n\"\n",
    "    \"3. Add necessary punctuation marks to make the sentences grammatically correct.\\n\"\n",
    "    \"4. Use common sense to correct any mistakes and determine the most likely sentence structure.\\n\\n\"\n",
    "    \"For example:\\n\"\n",
    "    \"Input: 'HELLOHOWAREYOU'\\n\"\n",
    "    \"Output: 'Hello! How are you??'\\n\\n\"\n",
    "    \"Input: 'WHATAREYOUDOING'\\n\"\n",
    "    \"Output: 'What are you doing?'\\n\\n\"\n",
    "    \"Input: 'IAMFINE'\\n\"\n",
    "    \"Output: 'I am fine.'\\n\\n\"\n",
    "    \"Input: 'HELLOHOWASEYOU'\\n\"\n",
    "    \"Output: 'Hello! How are you?'\\n\\n\"\n",
    "    \"Input: 'IMISYOUSOMUCH'\\n\"\n",
    "    \"Output: 'I miss you so much.'\\n\\n\"\n",
    "    \"Input: 'HAVAGOODAY'\\n\"\n",
    "    \"Output: 'Have a good day!'\\n\\n\"\n",
    "    \"Now, please transform the following string:\\n\\n\"\n",
    "    f\"'{input_text}'\"\n",
    "    )\n",
    "\n",
    "    headers = {\n",
    "        \"Authorization\": f\"Bearer {api_key}\",\n",
    "        \"Content-Type\": \"application/json\"\n",
    "    }\n",
    "    data = {\n",
    "        \"messages\": [\n",
    "            {\n",
    "                \"role\": \"system\",\n",
    "                \"content\": prompt\n",
    "            }\n",
    "        ],\n",
    "        \"model\": \"gemma-7b-it\",  \n",
    "        \"max_tokens\": 256,\n",
    "        \"temperature\": 0.7\n",
    "    }\n",
    "\n",
    "    response = requests.post(api_url, headers=headers, json=data)\n",
    "    \n",
    "    if response.status_code == 200:\n",
    "        response_json = response.json()\n",
    "        choices = response_json.get(\"choices\")\n",
    "        if choices:\n",
    "            # Extract only the first sentence from the content\n",
    "            content = choices[0].get(\"message\").get(\"content\")\n",
    "            meaningful_sentence = content.split('.')[0].strip() + \".\"\n",
    "            return meaningful_sentence\n",
    "        else:\n",
    "            print(\"No choices returned in the response\")\n",
    "            return None\n",
    "    else:\n",
    "        print(\"Error:\", response.status_code, response.text)\n",
    "        return None\n",
    "\n",
    "\n",
    "input_text = ''.join(predictions_list)\n",
    "meaningful_sentence = get_meaningful_sentence(input_text)\n",
    "\n",
    "if meaningful_sentence:\n",
    "    print(meaningful_sentence)"
   ]
  }
 ],
 "metadata": {
  "kernelspec": {
   "display_name": "Python 3 (ipykernel)",
   "language": "python",
   "name": "python3"
  },
  "language_info": {
   "codemirror_mode": {
    "name": "ipython",
    "version": 3
   },
   "file_extension": ".py",
   "mimetype": "text/x-python",
   "name": "python",
   "nbconvert_exporter": "python",
   "pygments_lexer": "ipython3",
   "version": "3.11.4"
  }
 },
 "nbformat": 4,
 "nbformat_minor": 5
}
